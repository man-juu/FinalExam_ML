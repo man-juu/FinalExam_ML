{
  "nbformat": 4,
  "nbformat_minor": 0,
  "metadata": {
    "colab": {
      "provenance": []
    },
    "kernelspec": {
      "name": "python3",
      "display_name": "Python 3"
    },
    "language_info": {
      "name": "python"
    }
  },
  "cells": [
    {
      "cell_type": "markdown",
      "source": [
        "2440050874 - Michael Julian - LD01"
      ],
      "metadata": {
        "id": "0_QT3mk9yzwQ"
      }
    },
    {
      "cell_type": "markdown",
      "source": [
        "## import library"
      ],
      "metadata": {
        "id": "FofAhL73mojK"
      }
    },
    {
      "cell_type": "code",
      "execution_count": null,
      "metadata": {
        "id": "MX-0sDCHbjSy"
      },
      "outputs": [],
      "source": [
        "import pandas as pd\n",
        "import numpy as np\n",
        "import matplotlib.pyplot as plt\n",
        "import seaborn as sns"
      ]
    },
    {
      "cell_type": "code",
      "source": [
        "df = pd.read_csv(\"https://raw.githubusercontent.com/man-juu/datasetUASML/main/DNA.csv\")\n",
        "print(df.head())\n",
        "print(df.shape)"
      ],
      "metadata": {
        "colab": {
          "base_uri": "https://localhost:8080/"
        },
        "id": "-1YEyLErcYeO",
        "outputId": "da3ba45a-c69c-4aa6-fab1-58af741b7404"
      },
      "execution_count": null,
      "outputs": [
        {
          "output_type": "stream",
          "name": "stdout",
          "text": [
            "   num_of_atoms  num_of_heavy_atoms\n",
            "0            14                   6\n",
            "1            11                   5\n",
            "2            15                   6\n",
            "3            21                   7\n",
            "4            20                   7\n",
            "(14610, 2)\n"
          ]
        }
      ]
    },
    {
      "cell_type": "code",
      "source": [
        "X = np.array(df)"
      ],
      "metadata": {
        "id": "nPIqQxO7kL28"
      },
      "execution_count": null,
      "outputs": []
    },
    {
      "cell_type": "markdown",
      "source": [
        "## build model"
      ],
      "metadata": {
        "id": "osxvcbXGmmag"
      }
    },
    {
      "cell_type": "code",
      "source": [
        "def euclidean(p, q):\n",
        "    return np.sqrt(np.sum((p - q)**2))"
      ],
      "metadata": {
        "id": "4YdvrYb5uAHp"
      },
      "execution_count": null,
      "outputs": []
    },
    {
      "cell_type": "code",
      "source": [
        "np.random.seed(40)\n",
        "class KMeans:\n",
        "  def __init__(self, k, max_iters):\n",
        "    self.k = k\n",
        "    self.max_iters = max_iters\n",
        "    self.clusters = [[] for _ in range(self.k)]\n",
        "    self.centroids = []\n",
        "  \n",
        "  def predict(self, X):\n",
        "    self.X = X\n",
        "    self.n_samples, self.n_features = X.shape\n",
        "\n",
        "    random_sample_idxs = np.random.choice(self.n_samples, self.k, replace=False)\n",
        "    self.centroids = [self.X[idx] for idx in random_sample_idxs]\n",
        "\n",
        "    for _ in range(self.max_iters):\n",
        "      #expectation (update cluster label sesuai point terdekat)\n",
        "      self.clusters = self.update_clusters(self.centroids)\n",
        "\n",
        "      #maximization (update centroid ke mean setiap cluster)\n",
        "      prev_centroids = self.centroids\n",
        "      self.centroids = self.update_centroids(self.clusters)\n",
        "\n",
        "      #check convergence (posisi centroid tidak berubah)\n",
        "      if self.is_converged(prev_centroids, self.centroids):\n",
        "        break\n",
        "    return self._get_cluster_labels(self.clusters)\n",
        "  \n",
        "  def _get_cluster_labels(self, clusters):\n",
        "    labels = np.empty(self.n_samples)\n",
        "    for cluster_idx, cluster in enumerate(clusters):\n",
        "      for sample_idx in cluster:\n",
        "        labels[sample_idx] = cluster_idx\n",
        "    return labels\n",
        "  \n",
        "  def update_clusters(self, centroids):\n",
        "    clusters = [[] for _ in range(self.k)]\n",
        "    for idx, sample in enumerate(self.X):\n",
        "      centroid_idx = np.argmin([euclidean(sample, point) for point in centroids])\n",
        "      clusters[centroid_idx].append(idx)\n",
        "    return clusters\n",
        "  \n",
        "  def update_centroids(self, clusters):\n",
        "    centroids = np.zeros((self.k, self.n_features))\n",
        "    for cluster_idx, cluster in enumerate(clusters):\n",
        "      centroids[cluster_idx] = np.mean(self.X[cluster], axis=0)\n",
        "    return centroids\n",
        "\n",
        "  def is_converged(self, prev_centroids, centroids):\n",
        "    dist = [euclidean(prev_centroids[i], centroids[i]) for i in range(self.k)]\n",
        "    return sum(dist) == 0\n",
        "  \n",
        "  def plot_cluster(self):\n",
        "    fig, ax = plt.subplots(figsize=(12,8))\n",
        "    for i, index in enumerate(self.clusters):\n",
        "      point = self.X[index].T\n",
        "      ax.scatter(*point)\n",
        "    for point in self.centroids:\n",
        "      ax.scatter(*point, marker=\"+\", color=\"black\", linewidth=2)\n",
        "    plt.show()"
      ],
      "metadata": {
        "id": "_l5ix8rgc8rj"
      },
      "execution_count": null,
      "outputs": []
    },
    {
      "cell_type": "markdown",
      "source": [
        "## plot after clustering"
      ],
      "metadata": {
        "id": "UGLAqkrcmV9F"
      }
    },
    {
      "cell_type": "code",
      "source": [
        "clusters = 2 #initialize k (DNA sakit dan DNA  tidak sakit)\n",
        "model = KMeans(k=clusters, max_iters=200)\n",
        "y_pred = model.predict(X)\n",
        "model.plot_cluster()"
      ],
      "metadata": {
        "colab": {
          "base_uri": "https://localhost:8080/",
          "height": 483
        },
        "id": "gg4cKi_8lEA2",
        "outputId": "75225d7d-8949-44d5-ef5b-b950d16b65a8"
      },
      "execution_count": null,
      "outputs": [
        {
          "output_type": "display_data",
          "data": {
            "text/plain": [
              "<Figure size 864x576 with 1 Axes>"
            ],
            "image/png": "[encoded data removed]"
          },
          "metadata": {
            "needs_background": "light"
          }
        }
      ]
    }
  ]
}